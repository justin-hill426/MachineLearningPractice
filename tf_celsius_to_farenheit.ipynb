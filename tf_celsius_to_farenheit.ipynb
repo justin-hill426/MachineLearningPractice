{
  "nbformat": 4,
  "nbformat_minor": 0,
  "metadata": {
    "colab": {
      "name": "tf_celsius_to_farenheit",
      "provenance": [],
      "authorship_tag": "ABX9TyN90pGtrC4OKHxJfoJsUbkK",
      "include_colab_link": true
    },
    "kernelspec": {
      "name": "python3",
      "display_name": "Python 3"
    },
    "language_info": {
      "name": "python"
    }
  },
  "cells": [
    {
      "cell_type": "markdown",
      "metadata": {
        "id": "view-in-github",
        "colab_type": "text"
      },
      "source": [
        "<a href=\"https://colab.research.google.com/github/justin-hill426/MachineLearningPractice/blob/main/tf_celsius_to_farenheit.ipynb\" target=\"_parent\"><img src=\"https://colab.research.google.com/assets/colab-badge.svg\" alt=\"Open In Colab\"/></a>"
      ]
    },
    {
      "cell_type": "code",
      "metadata": {
        "colab": {
          "base_uri": "https://localhost:8080/"
        },
        "id": "ybNklissAVc1",
        "outputId": "3e7ab662-8ea1-4c51-df2b-dbb3b38d3340"
      },
      "source": [
        "import tensorflow as tf\n",
        "# tf.logging.set_verbosity(tf.logging.ERROR)\n",
        "\n",
        "import numpy as np\n",
        "\n",
        "#Features\n",
        "celsius_q = np.array([-40, -10, 0, 8, 15, 22, 38], dtype=float)\n",
        "\n",
        "#Labels\n",
        "farenheit_a = np.array([-40, 14, 32, 46, 59, 72, 100], dtype=float)\n",
        "\n",
        "for i, c in enumerate(celsius_q):\n",
        "  print('{} degrees Celsius = {} degrees Fahrenheit'.format(c, farenheit_a[i]))"
      ],
      "execution_count": null,
      "outputs": [
        {
          "output_type": "stream",
          "text": [
            "-40.0 degrees Celsius = -40.0 degrees Fahrenheit\n",
            "-10.0 degrees Celsius = 14.0 degrees Fahrenheit\n",
            "0.0 degrees Celsius = 32.0 degrees Fahrenheit\n",
            "8.0 degrees Celsius = 46.0 degrees Fahrenheit\n",
            "15.0 degrees Celsius = 59.0 degrees Fahrenheit\n",
            "22.0 degrees Celsius = 72.0 degrees Fahrenheit\n",
            "38.0 degrees Celsius = 100.0 degrees Fahrenheit\n"
          ],
          "name": "stdout"
        }
      ]
    },
    {
      "cell_type": "markdown",
      "metadata": {
        "id": "pInyrCbIEBDL"
      },
      "source": [
        "#Build a Layer\n",
        "* input_shape=[1] - Specifies that input to this layer is a single value.\n",
        "* units = 1 - specifies the number of neurons in the layer.\n",
        "___\n",
        "This feels different than Jupyter Notebooks\n",
        "  "
      ]
    },
    {
      "cell_type": "code",
      "metadata": {
        "id": "e4eBLzCaDYKJ"
      },
      "source": [
        "\n",
        "I0 = tf.keras.layers.Dense(units=1, input_shape=[1])\n",
        "#Assemble Layers\n",
        "#The sequential model definition takes a list of layers as argument, specifying the calculation order from the input to output\n",
        "model = tf.keras.Sequential([I0])\n",
        "#Compile model (loss(measuring loss function), optimizer(lr))\n",
        "model.compile(loss='mean_squared_error', optimizer=tf.keras.optimizers.Adam(0.1))\n",
        "#1 epoch is one iteration of training/input, with 7 inputs that is 3500 iterations\n",
        "history = model.fit(celsius_q, farenheit_a, epochs=500, verbose=False)\n"
      ],
      "execution_count": null,
      "outputs": []
    },
    {
      "cell_type": "markdown",
      "metadata": {
        "id": "cDBA1q_2G1tj"
      },
      "source": [
        "##Display Training Stats"
      ]
    },
    {
      "cell_type": "code",
      "metadata": {
        "colab": {
          "base_uri": "https://localhost:8080/",
          "height": 299
        },
        "id": "0N_EBsOuHSZf",
        "outputId": "fdd95537-a784-4b9c-c5c2-67117cbac0bc"
      },
      "source": [
        "import matplotlib.pyplot as plt\n",
        "plt.xlabel('Epoch Number')\n",
        "plt.ylabel('Loss Magnitude')\n",
        "plt.plot(history.history['loss'])"
      ],
      "execution_count": null,
      "outputs": [
        {
          "output_type": "execute_result",
          "data": {
            "text/plain": [
              "[<matplotlib.lines.Line2D at 0x7f2b4eda80d0>]"
            ]
          },
          "metadata": {
            "tags": []
          },
          "execution_count": 5
        },
        {
          "output_type": "display_data",
          "data": {
            "image/png": "[encoded data removed]",
            "text/plain": [
              "<Figure size 432x288 with 1 Axes>"
            ]
          },
          "metadata": {
            "tags": [],
            "needs_background": "light"
          }
        }
      ]
    },
    {
      "cell_type": "code",
      "metadata": {
        "colab": {
          "base_uri": "https://localhost:8080/"
        },
        "id": "GbLpF1okHoUu",
        "outputId": "e19cc72f-9ad6-4279-c1d3-726ebb04dbf3"
      },
      "source": [
        "#predicting values\n",
        "print(model.predict([100.0]))"
      ],
      "execution_count": null,
      "outputs": [
        {
          "output_type": "stream",
          "text": [
            "[[211.32355]]\n"
          ],
          "name": "stdout"
        }
      ]
    },
    {
      "cell_type": "code",
      "metadata": {
        "colab": {
          "base_uri": "https://localhost:8080/"
        },
        "id": "--gO6gGyoODi",
        "outputId": "99895b20-0f3d-46b6-f69f-add8ea419a97"
      },
      "source": [
        "#showing the weights and the bias\n",
        "print(\"These are the weights {}\".format(I0.get_weights()))"
      ],
      "execution_count": null,
      "outputs": [
        {
          "output_type": "stream",
          "text": [
            "These are the weights [array([[1.8225704]], dtype=float32), array([29.066504], dtype=float32)]\n"
          ],
          "name": "stdout"
        }
      ]
    },
    {
      "cell_type": "markdown",
      "metadata": {
        "id": "rHtM3OY3opBO"
      },
      "source": [
        "#Note\n",
        "Note that we since we only have one neuron in the input layer (feature), we only have one weight and one bias to tune. This leads to a easy solution to find the formula for converting celsius to farenheit where\n",
        "\n",
        "$$\n",
        "F = 1.8C + 32\n",
        "$$"
      ]
    }
  ]
}